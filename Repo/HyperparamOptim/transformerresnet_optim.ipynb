{
 "cells": [
  {
   "cell_type": "code",
   "execution_count": null,
   "id": "f308c93a",
   "metadata": {},
   "outputs": [],
   "source": [
    "\"\"\"Not used in paper. Used the hyperparameters trained in DeiT paper instead\"\"\"\n",
    "import sys\n",
    "import os\n",
    "sys.path.append('../')"
   ]
  },
  {
   "cell_type": "code",
   "execution_count": null,
   "id": "590b92cc",
   "metadata": {},
   "outputs": [],
   "source": [
    "from TrainFunctions.train_transformerresnet import train_transformerresnet\n",
    "from functools import partial\n",
    "from ray import tune\n",
    "import ray\n",
    "from ray.tune.schedulers import ASHAScheduler\n",
    "from ray.tune import CLIReporter"
   ]
  },
  {
   "cell_type": "code",
   "execution_count": null,
   "id": "8484a947",
   "metadata": {},
   "outputs": [],
   "source": [
    "ray.shutdown()\n",
    "os.environ['PYTHONPATH'] = '/Users/adithyagiri/Desktop/STS/Repo/'\n",
    "ray.init(num_gpus=1, num_cpus=12)\n",
    "config = {\n",
    "        \"lr\": tune.choice([0.0003, 0.001, 0.003, 0.01, 0.03, 0.1]),\n",
    "        \"dropout_p\": tune.choice([0.001, 0.003, 0.01, 0.03]),\n",
    "        \"momentum\": tune.choice([0.8, 0.9, 0.99]),\n",
    "        \"weight_decay\": tune.choice([0.0003, 0.001, 0.003, 0.01, 0.03, 0.1]),\n",
    "    }\n",
    "max_epochs = 64\n",
    "scheduler = ASHAScheduler(\n",
    "        metric=\"accuracy\",\n",
    "        mode=\"max\",\n",
    "        max_t=max_epochs,\n",
    "        reduction_factor=4,\n",
    "        grace_period=2,\n",
    ")\n",
    "reporter = CLIReporter(\n",
    "        metric_columns=[\"loss\", \"accuracy\", \"training_iteration\"])\n",
    "result = tune.run(\n",
    "    partial(train_transformerresnet, patch_size = 2, img_h = 32, img_w = 32, d_model = 32, tuning_mode = True),\n",
    "    config = config,\n",
    "    num_samples = 16,\n",
    "    scheduler = scheduler,\n",
    "    progress_reporter = reporter,\n",
    "    max_concurrent_trials=16\n",
    ")\n",
    "\n"
   ]
  },
  {
   "cell_type": "code",
   "execution_count": null,
   "id": "a6fbda83",
   "metadata": {},
   "outputs": [],
   "source": [
    "best_config = result.get_best_config(metric=\"accuracy\", mode=\"max\")\n",
    "print(\"Best Hyperparameters:\", best_config)"
   ]
  }
 ],
 "metadata": {
  "kernelspec": {
   "display_name": "base",
   "language": "python",
   "name": "python3"
  },
  "language_info": {
   "codemirror_mode": {
    "name": "ipython",
    "version": 3
   },
   "file_extension": ".py",
   "mimetype": "text/x-python",
   "name": "python",
   "nbconvert_exporter": "python",
   "pygments_lexer": "ipython3",
   "version": "3.12.2"
  }
 },
 "nbformat": 4,
 "nbformat_minor": 5
}
