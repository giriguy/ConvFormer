{
 "cells": [
  {
   "cell_type": "code",
   "execution_count": null,
   "id": "f0063331",
   "metadata": {},
   "outputs": [],
   "source": [
    "# Import model\n",
    "import sys\n",
    "sys.path.append('../')"
   ]
  },
  {
   "cell_type": "code",
   "execution_count": null,
   "id": "52be8b17",
   "metadata": {},
   "outputs": [],
   "source": [
    "# Import model\n",
    "from TrainFunctions.train_ViT import train_ViT"
   ]
  },
  {
   "cell_type": "code",
   "execution_count": null,
   "id": "6477c085",
   "metadata": {},
   "outputs": [],
   "source": [
    "# Initialize config\n",
    "config = {\n",
    "    \"lr\": 0.001,\n",
    "    \"dropout_p\": 0.00,\n",
    "    \"weight_decay\": 0.05,\n",
    "    \"momentum\": 0.99,\n",
    "    'lr_scheduler': 'OneCycleLR',\n",
    "    }\n",
    "\n",
    "# Run train function\n",
    "train_ViT(config=config, patch_size = 16, img_h = 224, img_w = 224, d_model = 192)\n"
   ]
  }
 ],
 "metadata": {
  "kernelspec": {
   "display_name": "Python 3",
   "language": "python",
   "name": "python3"
  },
  "language_info": {
   "codemirror_mode": {
    "name": "ipython",
    "version": 3
   },
   "file_extension": ".py",
   "mimetype": "text/x-python",
   "name": "python",
   "nbconvert_exporter": "python",
   "pygments_lexer": "ipython3",
   "version": "3.10.12"
  }
 },
 "nbformat": 4,
 "nbformat_minor": 5
}
