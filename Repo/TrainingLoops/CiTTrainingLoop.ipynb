{
 "cells": [
  {
   "cell_type": "code",
   "execution_count": null,
   "id": "7416b9f6",
   "metadata": {},
   "outputs": [],
   "source": [
    "# Add models to system path\n",
    "import sys\n",
    "sys.path.append('../')"
   ]
  },
  {
   "cell_type": "code",
   "execution_count": null,
   "id": "1ee33d0b",
   "metadata": {},
   "outputs": [],
   "source": [
    "# Import model\n",
    "from TrainFunctions.train_IBiT import train_IBiT"
   ]
  },
  {
   "cell_type": "code",
   "execution_count": null,
   "id": "0e111660",
   "metadata": {},
   "outputs": [],
   "source": [
    "# Initialize config\n",
    "config = {\n",
    "    \"lr\": 0.001,\n",
    "    \"dropout_p\": 0.00,\n",
    "    \"weight_decay\": 0.05,\n",
    "    \"momentum\": 0.99,\n",
    "    \"mask_fidelity\": 9,\n",
    "    'lr_scheduler': 'Warmup-Cosine-Annealing',\n",
    "    }\n",
    "\n",
    "# Run train function\n",
    "train_IBiT(config=config, patch_size = 16, img_h = 224, img_w = 224, d_model = 192)\n"
   ]
  }
 ],
 "metadata": {
  "kernelspec": {
   "display_name": "base",
   "language": "python",
   "name": "python3"
  },
  "language_info": {
   "codemirror_mode": {
    "name": "ipython",
    "version": 3
   },
   "file_extension": ".py",
   "mimetype": "text/x-python",
   "name": "python",
   "nbconvert_exporter": "python",
   "pygments_lexer": "ipython3",
   "version": "3.12.2"
  }
 },
 "nbformat": 4,
 "nbformat_minor": 5
}
